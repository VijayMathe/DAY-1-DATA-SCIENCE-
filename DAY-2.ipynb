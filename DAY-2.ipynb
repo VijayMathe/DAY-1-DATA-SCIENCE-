{
 "cells": [
  {
   "cell_type": "markdown",
   "id": "8f929cdf",
   "metadata": {},
   "source": [
    "# DAY-2"
   ]
  },
  {
   "cell_type": "code",
   "execution_count": null,
   "id": "ad9fff3c",
   "metadata": {},
   "outputs": [],
   "source": [
    "age=18\n",
    "print(\"My age is: \",age)"
   ]
  },
  {
   "cell_type": "code",
   "execution_count": 5,
   "id": "a9e58531",
   "metadata": {},
   "outputs": [
    {
     "name": "stdout",
     "output_type": "stream",
     "text": [
      "my age is:{age}\n"
     ]
    }
   ],
   "source": [
    "print(\"my age is:{age}\")"
   ]
  },
  {
   "cell_type": "code",
   "execution_count": 4,
   "id": "63d2082f",
   "metadata": {},
   "outputs": [
    {
     "name": "stdout",
     "output_type": "stream",
     "text": [
      "my age is:18\n"
     ]
    }
   ],
   "source": [
    "# f string is used  \n",
    "print(f\"my age is:{age}\")"
   ]
  },
  {
   "cell_type": "code",
   "execution_count": 6,
   "id": "a9c0e2ee",
   "metadata": {},
   "outputs": [
    {
     "name": "stdout",
     "output_type": "stream",
     "text": [
      "my name is prem and age is 18\n"
     ]
    }
   ],
   "source": [
    "# format way\n",
    "name=\"prem\"\n",
    "age=18\n",
    "print(\"my name is {} and age is {}\".format(name,age))"
   ]
  },
  {
   "cell_type": "code",
   "execution_count": 7,
   "id": "2c9403b6",
   "metadata": {},
   "outputs": [
    {
     "name": "stdout",
     "output_type": "stream",
     "text": [
      "my name is prem and age is 18\n"
     ]
    }
   ],
   "source": [
    "# placeholder\n",
    "print(\"my name is {fname} and age is {fage}\".format(fage=age,fname=name))"
   ]
  },
  {
   "cell_type": "code",
   "execution_count": 9,
   "id": "550018fc",
   "metadata": {},
   "outputs": [
    {
     "name": "stdout",
     "output_type": "stream",
     "text": [
      "may age is 18 and i have completed my B TECH with name of prem\n"
     ]
    }
   ],
   "source": [
    "name=\"prem\"\n",
    "age=18\n",
    "degree=\"B TECH\"\n",
    "\n",
    "print(\"may age is {} and pursuing my {} with name of {}\".format(age,degree,name))"
   ]
  },
  {
   "cell_type": "code",
   "execution_count": 10,
   "id": "b974b273",
   "metadata": {},
   "outputs": [
    {
     "name": "stdout",
     "output_type": "stream",
     "text": [
      "may age is 18 and pursuing my B TECH with name of prem\n"
     ]
    }
   ],
   "source": [
    "#f string method\n",
    "print(f\"may age is {age} and pursuing my {degree} with name of {name}\")"
   ]
  },
  {
   "cell_type": "markdown",
   "id": "2f4fd8a0",
   "metadata": {},
   "source": [
    "# Control Flow\n",
    "## Decision Making Statements\n",
    "* it is a kind of making decision"
   ]
  },
  {
   "cell_type": "code",
   "execution_count": 11,
   "id": "b4d102b6",
   "metadata": {},
   "outputs": [
    {
     "name": "stdout",
     "output_type": "stream",
     "text": [
      "you can vote\n"
     ]
    }
   ],
   "source": [
    "age=18\n",
    "if age>=18:\n",
    "    print(\"you can vote\")\n",
    "else:\n",
    "    print(\"you can not vote\")"
   ]
  },
  {
   "cell_type": "markdown",
   "id": "cf2fbcd3",
   "metadata": {},
   "source": [
    "### input"
   ]
  },
  {
   "cell_type": "code",
   "execution_count": 19,
   "id": "bccbc590",
   "metadata": {},
   "outputs": [
    {
     "name": "stdout",
     "output_type": "stream",
     "text": [
      "enter name prem\n"
     ]
    }
   ],
   "source": [
    "name=input(\"enter name \")"
   ]
  },
  {
   "cell_type": "code",
   "execution_count": 18,
   "id": "dfc870b4",
   "metadata": {},
   "outputs": [
    {
     "name": "stdout",
     "output_type": "stream",
     "text": [
      "enter age 18\n"
     ]
    }
   ],
   "source": [
    "age=int(input(\"enter age \"))"
   ]
  },
  {
   "cell_type": "code",
   "execution_count": 17,
   "id": "e6153059",
   "metadata": {},
   "outputs": [
    {
     "name": "stdout",
     "output_type": "stream",
     "text": [
      "enter age: 17\n",
      "not young\n"
     ]
    }
   ],
   "source": [
    "#task\n",
    "## take input age\n",
    "## check age is greater or lesser than 18 \n",
    "## if age >=18 and age<=45 display to young blood\n",
    "\n",
    "age=int(input(\"enter age: \"))\n",
    "\n",
    "if age>=18 and age<=45:\n",
    "    print(\"young blood \")\n",
    "else:\n",
    "    print(\"not young\")"
   ]
  },
  {
   "cell_type": "code",
   "execution_count": 24,
   "id": "5f0db9ed",
   "metadata": {},
   "outputs": [
    {
     "name": "stdout",
     "output_type": "stream",
     "text": [
      "enter money: 5000\n",
      "price is 4000.0 \n"
     ]
    }
   ],
   "source": [
    "## account money=input\n",
    "##product>1000 20% off\n",
    "#print the product price after discount\n",
    "##product<=1000 30% off\n",
    "\n",
    "price=int(input(\"enter money: \"))\n",
    "\n",
    "if price>1000:\n",
    "    print(\"price is {} \".format((price*80)/100))\n",
    "    \n",
    "else:\n",
    "    print(\"price is {} \".format((price*70)/100))\n",
    "    "
   ]
  },
  {
   "cell_type": "code",
   "execution_count": 30,
   "id": "29e08dd9",
   "metadata": {},
   "outputs": [
    {
     "name": "stdout",
     "output_type": "stream",
     "text": [
      "enter money: 2999\n",
      "congrats you will get gift\n",
      "price is 2099.3 \n"
     ]
    }
   ],
   "source": [
    "#assign2\n",
    "\n",
    "price=int(input(\"enter money: \"))\n",
    "\n",
    "if price>3000:\n",
    "    print(\"price is {} \".format((price*80)/100))\n",
    "    \n",
    "elif price>=2000 and price<3000:\n",
    "    if price==2999:\n",
    "        print(\"congrats you will get gift\")\n",
    "    print(\"price is {} \".format((price*70)/100)) # .format method\n",
    "\n",
    "elif price>=1000 and price<=2000:\n",
    "    print(f\"price is {price*0.6}\") # f string method\n",
    "    \n",
    "else:\n",
    "    print(\"drink tea\")"
   ]
  },
  {
   "cell_type": "code",
   "execution_count": 31,
   "id": "d982b279",
   "metadata": {},
   "outputs": [
    {
     "name": "stdout",
     "output_type": "stream",
     "text": [
      "enter number500\n",
      "go home\n"
     ]
    }
   ],
   "source": [
    "## single statement\n",
    "\n",
    "val=int(input(\"enter number\"))\n",
    "\n",
    "if val==999:print(\"val is 999\")\n",
    "else:print(\"go home\")"
   ]
  },
  {
   "cell_type": "markdown",
   "id": "4edcca72",
   "metadata": {},
   "source": [
    "## LOOPS\n",
    "### for,while,nested"
   ]
  },
  {
   "cell_type": "markdown",
   "id": "b4492baa",
   "metadata": {},
   "source": [
    "#### while loop"
   ]
  },
  {
   "cell_type": "code",
   "execution_count": 35,
   "id": "d142fb36",
   "metadata": {},
   "outputs": [
    {
     "name": "stdout",
     "output_type": "stream",
     "text": [
      "20\n",
      "21\n",
      "22\n",
      "23\n",
      "24\n",
      "25\n",
      "26\n",
      "27\n",
      "28\n",
      "29\n",
      "30\n",
      "31\n",
      "32\n",
      "33\n",
      "34\n",
      "35\n",
      "36\n",
      "37\n",
      "38\n",
      "39\n",
      "40\n",
      "41\n",
      "42\n",
      "43\n",
      "44\n",
      "45\n",
      "46\n",
      "47\n",
      "48\n",
      "49\n",
      "50\n",
      "51\n",
      "52\n",
      "53\n",
      "54\n",
      "55\n",
      "56\n",
      "57\n",
      "58\n",
      "59\n",
      "60\n",
      "time for retirement\n"
     ]
    }
   ],
   "source": [
    "# while Loop\n",
    "join_age=20\n",
    "while join_age<=60:\n",
    "    print(join_age)\n",
    "    join_age+=1\n",
    "    \n",
    "else:\n",
    "    print(\"time for retirement\")"
   ]
  },
  {
   "cell_type": "code",
   "execution_count": 38,
   "id": "e23a92a1",
   "metadata": {},
   "outputs": [
    {
     "name": "stdout",
     "output_type": "stream",
     "text": [
      "1000\n",
      "900\n",
      "800\n",
      "700\n",
      "600\n",
      "500\n",
      "400\n",
      "300\n",
      "200\n",
      "100\n",
      "empty\n"
     ]
    }
   ],
   "source": [
    "#atm machine with 100rs\n",
    "tamount=1000;\n",
    "\n",
    "while tamount!=0:\n",
    "    print(tamount)\n",
    "    tamount-=100\n",
    "    \n",
    "\n",
    "else:\n",
    "    print(\"empty\")"
   ]
  },
  {
   "cell_type": "markdown",
   "id": "a32b05a0",
   "metadata": {},
   "source": [
    "#### for loop"
   ]
  },
  {
   "cell_type": "code",
   "execution_count": 43,
   "id": "afca9fca",
   "metadata": {},
   "outputs": [],
   "source": [
    "lst=[\"prem\",1,2,3,\"apple\",\"banana\"]"
   ]
  },
  {
   "cell_type": "code",
   "execution_count": 44,
   "id": "3be6003d",
   "metadata": {},
   "outputs": [
    {
     "data": {
      "text/plain": [
       "list"
      ]
     },
     "execution_count": 44,
     "metadata": {},
     "output_type": "execute_result"
    }
   ],
   "source": [
    "type(lst)"
   ]
  },
  {
   "cell_type": "code",
   "execution_count": 45,
   "id": "ef9e0456",
   "metadata": {},
   "outputs": [
    {
     "data": {
      "text/plain": [
       "['prem', 1, 2, 3, 'apple', 'banana']"
      ]
     },
     "execution_count": 45,
     "metadata": {},
     "output_type": "execute_result"
    }
   ],
   "source": [
    "lst"
   ]
  },
  {
   "cell_type": "code",
   "execution_count": 46,
   "id": "70937ea5",
   "metadata": {},
   "outputs": [
    {
     "name": "stdout",
     "output_type": "stream",
     "text": [
      "prem\n",
      "1\n",
      "2\n",
      "3\n",
      "apple\n",
      "banana\n"
     ]
    }
   ],
   "source": [
    "for x in lst:\n",
    "    print(x)"
   ]
  },
  {
   "cell_type": "code",
   "execution_count": 47,
   "id": "df03a943",
   "metadata": {},
   "outputs": [],
   "source": [
    "fruitlst=[\"mango\",\"cherry\",\"apple\"]"
   ]
  },
  {
   "cell_type": "code",
   "execution_count": 53,
   "id": "bf4c8868",
   "metadata": {},
   "outputs": [
    {
     "name": "stdout",
     "output_type": "stream",
     "text": [
      "mango\n",
      "cherry\n",
      " fruit is cherry\n"
     ]
    }
   ],
   "source": [
    "for a in fruitlst:\n",
    "    print(a)\n",
    "    if a==\"cherry\":\n",
    "        print(f\" fruit is {a}\")\n",
    "        break"
   ]
  },
  {
   "cell_type": "code",
   "execution_count": 56,
   "id": "66d5f784",
   "metadata": {},
   "outputs": [
    {
     "name": "stdout",
     "output_type": "stream",
     "text": [
      "m a n g o "
     ]
    }
   ],
   "source": [
    "# print consist \\n(new line) default\n",
    "fruit='mango'\n",
    "for x in fruit:\n",
    "    print(x)"
   ]
  },
  {
   "cell_type": "code",
   "execution_count": 55,
   "id": "c38433b2",
   "metadata": {},
   "outputs": [
    {
     "data": {
      "text/plain": [
       "'n'"
      ]
     },
     "execution_count": 55,
     "metadata": {},
     "output_type": "execute_result"
    }
   ],
   "source": [
    "fruit[2]"
   ]
  },
  {
   "cell_type": "code",
   "execution_count": 57,
   "id": "a6ed54a4",
   "metadata": {},
   "outputs": [
    {
     "name": "stdout",
     "output_type": "stream",
     "text": [
      "m a n g o "
     ]
    }
   ],
   "source": [
    "# if we want o/p in single line\n",
    "fruit='mango'\n",
    "for x in fruit:\n",
    "    print(x,end=\" \")"
   ]
  },
  {
   "cell_type": "markdown",
   "id": "4e045f7e",
   "metadata": {},
   "source": [
    "### Nested loop"
   ]
  },
  {
   "cell_type": "code",
   "execution_count": 58,
   "id": "005d6186",
   "metadata": {},
   "outputs": [
    {
     "name": "stdout",
     "output_type": "stream",
     "text": [
      "1\n",
      "2\n",
      "3\n",
      "4\n",
      "5\n"
     ]
    }
   ],
   "source": [
    "#range function exclude last number\n",
    "# range(start,stop,stepsize)\n",
    "for i in range(1,6):\n",
    "    print(i)"
   ]
  },
  {
   "cell_type": "code",
   "execution_count": 59,
   "id": "fcae72a8",
   "metadata": {},
   "outputs": [
    {
     "name": "stdout",
     "output_type": "stream",
     "text": [
      "1\n",
      "3\n",
      "5\n",
      "7\n",
      "9\n"
     ]
    }
   ],
   "source": [
    "for i in range(1,10,2):\n",
    "    print(i)"
   ]
  },
  {
   "cell_type": "markdown",
   "id": "0c82a1e5",
   "metadata": {},
   "source": [
    "##### pattern question"
   ]
  },
  {
   "cell_type": "code",
   "execution_count": 62,
   "id": "98cdea72",
   "metadata": {},
   "outputs": [
    {
     "name": "stdout",
     "output_type": "stream",
     "text": [
      "*\r\n",
      "**\r\n",
      "***\r\n",
      "****\r\n",
      "*****\r\n",
      "******\r\n",
      "*******\r\n"
     ]
    }
   ],
   "source": [
    "n=7\n",
    "\n",
    "for i in range(0,n):\n",
    "    for j in range(0,i+1):\n",
    "        print(\"*\",end=\"\")\n",
    "    print(\"\\r\")"
   ]
  },
  {
   "cell_type": "markdown",
   "id": "85997ec7",
   "metadata": {},
   "source": [
    "### Break and continue"
   ]
  },
  {
   "cell_type": "code",
   "execution_count": 67,
   "id": "849c24da",
   "metadata": {},
   "outputs": [],
   "source": [
    "fruitlst=[\"mango\",\"cherry\",\"apple\",\"banana\"]"
   ]
  },
  {
   "cell_type": "code",
   "execution_count": 69,
   "id": "615daddc",
   "metadata": {},
   "outputs": [
    {
     "name": "stdout",
     "output_type": "stream",
     "text": [
      "mango\n",
      "cherry\n",
      "fruit is apple\n"
     ]
    }
   ],
   "source": [
    "for i in fruitlst:\n",
    "    if i==\"apple\":\n",
    "        print(\"fruit is apple\")\n",
    "        break\n",
    "    print(i)"
   ]
  },
  {
   "cell_type": "code",
   "execution_count": 70,
   "id": "2d50cc3e",
   "metadata": {},
   "outputs": [
    {
     "name": "stdout",
     "output_type": "stream",
     "text": [
      "mango\n",
      "cherry\n",
      "fruit is apple\n",
      "apple\n",
      "banana\n"
     ]
    }
   ],
   "source": [
    "# pass:not do anything\n",
    "for i in fruitlst:\n",
    "    if i==\"apple\":\n",
    "        print(\"fruit is apple\")\n",
    "        pass\n",
    "    print(i)"
   ]
  },
  {
   "cell_type": "code",
   "execution_count": 71,
   "id": "61b8df09",
   "metadata": {},
   "outputs": [
    {
     "name": "stdout",
     "output_type": "stream",
     "text": [
      "mango\n",
      "cherry\n",
      "fruit is apple\n",
      "banana\n"
     ]
    }
   ],
   "source": [
    "# continue: skip one iteration\n",
    "for i in fruitlst:\n",
    "    if i==\"apple\":\n",
    "        print(\"fruit is apple\")\n",
    "        continue\n",
    "    print(i)"
   ]
  },
  {
   "cell_type": "markdown",
   "id": "7ee5d092",
   "metadata": {},
   "source": [
    "### Diamond pattern"
   ]
  },
  {
   "cell_type": "code",
   "execution_count": 133,
   "id": "2c928ce5",
   "metadata": {},
   "outputs": [
    {
     "name": "stdout",
     "output_type": "stream",
     "text": [
      "              * \r\n",
      "            * * * \r\n",
      "          * * * * * \r\n",
      "        * * * * * * * \r\n",
      "      * * * * * * * * * \r\n",
      "    * * * * * * * * * * * \r\n",
      "  * * * * * * * * * * * * * \r\n",
      "  * * * * * * * * * * * * * \r\n",
      "    * * * * * * * * * * * \r\n",
      "      * * * * * * * * * \r\n",
      "        * * * * * * * \r\n",
      "          * * * * * \r\n",
      "            * * * \r\n",
      "              * \r\n"
     ]
    }
   ],
   "source": [
    "n=7\n",
    "\n",
    "for i in range(0,n):\n",
    "    for k in range(0,n-i):\n",
    "        print(\" \",end=\" \")\n",
    "    for j in range(0,i+1):\n",
    "        print(\"*\",end=\" \")\n",
    "    for l in range(1,i+1):\n",
    "        print(\"*\",end=\" \")\n",
    "    print(\"\\r\")\n",
    "    \n",
    "for m in range(0,n):\n",
    "    for o in range(0,m+1):\n",
    "        print(\" \",end=\" \")\n",
    "    for p in range(0,n-m):\n",
    "        print(\"*\",end=\" \")\n",
    "    for q in range(1,n-m):\n",
    "        print(\"*\",end=\" \")\n",
    "    print(\"\\r\")\n",
    "    "
   ]
  },
  {
   "cell_type": "code",
   "execution_count": 123,
   "id": "e2cd98f3",
   "metadata": {},
   "outputs": [],
   "source": [
    "\n",
    "    "
   ]
  },
  {
   "cell_type": "code",
   "execution_count": null,
   "id": "8d1c9dd7",
   "metadata": {},
   "outputs": [],
   "source": []
  },
  {
   "cell_type": "code",
   "execution_count": null,
   "id": "73e61e61",
   "metadata": {},
   "outputs": [],
   "source": []
  },
  {
   "cell_type": "code",
   "execution_count": null,
   "id": "05df230d",
   "metadata": {},
   "outputs": [],
   "source": []
  }
 ],
 "metadata": {
  "kernelspec": {
   "display_name": "Python 3 (ipykernel)",
   "language": "python",
   "name": "python3"
  },
  "language_info": {
   "codemirror_mode": {
    "name": "ipython",
    "version": 3
   },
   "file_extension": ".py",
   "mimetype": "text/x-python",
   "name": "python",
   "nbconvert_exporter": "python",
   "pygments_lexer": "ipython3",
   "version": "3.10.7"
  }
 },
 "nbformat": 4,
 "nbformat_minor": 5
}
