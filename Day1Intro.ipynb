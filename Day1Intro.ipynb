{
 "cells": [
  {
   "cell_type": "code",
   "execution_count": 1,
   "id": "e3fa2dce-b8ed-4fbb-a0e5-9a09cea1f843",
   "metadata": {},
   "outputs": [],
   "source": [
    "a=10"
   ]
  },
  {
   "cell_type": "code",
   "execution_count": 2,
   "id": "4bb3b634-2399-4ae5-bc12-1cdb8478f31c",
   "metadata": {},
   "outputs": [
    {
     "data": {
      "text/plain": [
       "10"
      ]
     },
     "execution_count": 2,
     "metadata": {},
     "output_type": "execute_result"
    }
   ],
   "source": [
    "a"
   ]
  },
  {
   "cell_type": "markdown",
   "id": "e76f0e07-88ca-41f4-af43-6defd08cc55d",
   "metadata": {},
   "source": [
    "## introduction"
   ]
  },
  {
   "cell_type": "code",
   "execution_count": 3,
   "id": "415f4fba-5789-4531-a693-5795175d51d9",
   "metadata": {},
   "outputs": [],
   "source": [
    "b=10"
   ]
  },
  {
   "cell_type": "code",
   "execution_count": 4,
   "id": "bea25caf-36cb-4ca9-85f3-f10a41faae37",
   "metadata": {},
   "outputs": [
    {
     "data": {
      "text/plain": [
       "10"
      ]
     },
     "execution_count": 4,
     "metadata": {},
     "output_type": "execute_result"
    }
   ],
   "source": [
    "b"
   ]
  },
  {
   "cell_type": "code",
   "execution_count": 5,
   "id": "9e469ca2-70b3-43c3-986a-37af88a34344",
   "metadata": {},
   "outputs": [],
   "source": [
    "##comment\n",
    "\"\"\"\n",
    "hello this is multiline comment\n",
    "\"\"\"\n",
    "c=50"
   ]
  },
  {
   "cell_type": "code",
   "execution_count": 6,
   "id": "101717a0-3556-4625-b42d-a79f220cc206",
   "metadata": {},
   "outputs": [
    {
     "data": {
      "text/plain": [
       "50"
      ]
     },
     "execution_count": 6,
     "metadata": {},
     "output_type": "execute_result"
    }
   ],
   "source": [
    "c"
   ]
  },
  {
   "cell_type": "code",
   "execution_count": null,
   "id": "ecdb4239-af11-40db-ade3-cca25cc9b8b9",
   "metadata": {},
   "outputs": [],
   "source": []
  }
 ],
 "metadata": {
  "kernelspec": {
   "display_name": "Python 3 (ipykernel)",
   "language": "python",
   "name": "python3"
  },
  "language_info": {
   "codemirror_mode": {
    "name": "ipython",
    "version": 3
   },
   "file_extension": ".py",
   "mimetype": "text/x-python",
   "name": "python",
   "nbconvert_exporter": "python",
   "pygments_lexer": "ipython3",
   "version": "3.10.7"
  }
 },
 "nbformat": 4,
 "nbformat_minor": 5
}
